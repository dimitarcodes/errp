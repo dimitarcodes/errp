{
 "cells": [
  {
   "cell_type": "code",
   "execution_count": 1,
   "id": "eae3bc0e",
   "metadata": {},
   "outputs": [],
   "source": [
    "import mne\n",
    "import matplotlib.pyplot as plt\n",
    "import numpy as np\n",
    "import utils\n",
    "\n",
    "mne.set_log_level(verbose=\"ERROR\")"
   ]
  },
  {
   "cell_type": "code",
   "execution_count": 8,
   "id": "3c428c58",
   "metadata": {},
   "outputs": [
    {
     "name": "stdout",
     "output_type": "stream",
     "text": [
      "loading file data/sub01_ses1.mat\n",
      "loading file data/sub01_ses2.mat\n"
     ]
    }
   ],
   "source": [
    "train_data = utils.load_preprocess_matlab_data(\"data/sub01_ses1.mat\")\n",
    "test_data = utils.load_preprocess_matlab_data(\"data/sub01_ses2.mat\")"
   ]
  },
  {
   "cell_type": "code",
   "execution_count": 20,
   "id": "822c5973",
   "metadata": {},
   "outputs": [],
   "source": [
    "epo = train_data[['5', '10', '6', '9']]"
   ]
  },
  {
   "cell_type": "code",
   "execution_count": null,
   "id": "acc9e3dc",
   "metadata": {},
   "outputs": [
    {
     "name": "stdout",
     "output_type": "stream",
     "text": [
      "(489, 61)\n"
     ]
    }
   ],
   "source": [
    "X = epo.get_data(picks=['FCz']).squeeze()\n",
    "print(X.shape)"
   ]
  },
  {
   "cell_type": "code",
   "execution_count": null,
   "id": "f708d339",
   "metadata": {},
   "outputs": [
    {
     "data": {
      "text/plain": [
       "array([10, 10, 10, 10, 10, 10, 10, 10, 10, 10, 10, 10, 10, 10, 10, 10, 10,\n",
       "       10,  6,  6, 10, 10, 10, 10, 10, 10, 10,  6, 10,  6, 10, 10, 10, 10,\n",
       "       10, 10,  6, 10, 10, 10, 10, 10, 10,  6, 10, 10,  6,  6, 10, 10,  6,\n",
       "       10, 10, 10,  6, 10, 10,  6, 10, 10, 10, 10,  6, 10, 10, 10,  6, 10,\n",
       "       10, 10,  6, 10,  6, 10, 10, 10, 10, 10, 10, 10, 10, 10, 10, 10,  6,\n",
       "        6, 10,  6, 10, 10, 10,  6, 10, 10, 10, 10, 10, 10,  6, 10, 10, 10,\n",
       "        6, 10, 10,  6, 10, 10, 10, 10, 10, 10, 10,  6, 10, 10, 10, 10,  6,\n",
       "       10, 10,  6, 10, 10,  6, 10, 10, 10,  6, 10, 10, 10, 10, 10,  6,  6,\n",
       "       10,  6, 10, 10, 10, 10, 10, 10, 10, 10, 10,  6,  6, 10, 10,  6, 10,\n",
       "        6, 10,  6, 10, 10,  6, 10,  6,  6, 10, 10,  6,  6,  6, 10,  6, 10,\n",
       "       10, 10, 10, 10,  6,  6, 10,  6, 10, 10, 10,  6, 10,  6,  6, 10, 10,\n",
       "       10, 10, 10, 10, 10, 10,  6, 10,  6, 10, 10, 10,  6, 10, 10, 10,  6,\n",
       "        6, 10, 10,  6, 10, 10, 10, 10, 10,  6, 10,  6, 10, 10, 10, 10, 10,\n",
       "       10, 10, 10, 10,  6, 10, 10, 10, 10, 10, 10, 10, 10, 10,  6, 10, 10,\n",
       "       10, 10, 10,  6, 10, 10, 10,  6, 10, 10,  6, 10, 10, 10, 10, 10,  6,\n",
       "       10,  6, 10, 10, 10, 10, 10,  6, 10, 10, 10, 10, 10, 10, 10,  6,  6,\n",
       "       10, 10, 10,  6, 10, 10, 10, 10, 10, 10, 10,  6, 10,  6, 10, 10,  6,\n",
       "       10,  6, 10, 10, 10, 10, 10, 10,  6,  6, 10, 10, 10,  6, 10,  6, 10,\n",
       "       10, 10,  6, 10, 10,  6, 10, 10, 10, 10,  6, 10, 10,  6,  6, 10, 10,\n",
       "       10,  6,  6, 10, 10,  6, 10, 10,  6, 10, 10, 10, 10, 10, 10, 10, 10,\n",
       "       10,  6, 10,  6,  6, 10,  6, 10,  6, 10, 10, 10, 10,  6, 10, 10, 10,\n",
       "       10, 10,  6, 10, 10,  6, 10, 10,  6, 10, 10, 10, 10, 10, 10, 10,  6,\n",
       "       10, 10,  6, 10,  6, 10, 10, 10,  6, 10, 10, 10, 10, 10, 10, 10, 10,\n",
       "       10,  6,  6, 10, 10,  6, 10, 10, 10, 10, 10, 10, 10, 10, 10, 10,  6,\n",
       "       10, 10,  6, 10,  6, 10, 10, 10,  6, 10, 10, 10,  6, 10, 10, 10, 10,\n",
       "       10, 10, 10, 10, 10, 10, 10, 10, 10,  6, 10, 10, 10, 10, 10, 10, 10,\n",
       "       10, 10, 10, 10, 10, 10,  6, 10, 10, 10,  6,  6, 10, 10, 10,  6, 10,\n",
       "       10, 10,  6, 10,  6, 10, 10,  6, 10, 10, 10, 10, 10, 10, 10, 10, 10,\n",
       "       10,  6, 10, 10,  6, 10,  6, 10,  6, 10,  6, 10, 10])"
      ]
     },
     "execution_count": 26,
     "metadata": {},
     "output_type": "execute_result"
    }
   ],
   "source": [
    "y = epo.events[:,2]\n",
    "y[y==5] = 10\n",
    "y[y==9] = 6"
   ]
  },
  {
   "cell_type": "code",
   "execution_count": 30,
   "id": "b4c2c4e7",
   "metadata": {},
   "outputs": [],
   "source": [
    "from sklearn.discriminant_analysis import LinearDiscriminantAnalysis as LDA\n",
    "from sklearn.model_selection import cross_val_score"
   ]
  },
  {
   "cell_type": "code",
   "execution_count": 31,
   "id": "f016ef0f",
   "metadata": {},
   "outputs": [
    {
     "data": {
      "text/plain": [
       "np.float64(0.7987882882882882)"
      ]
     },
     "execution_count": 31,
     "metadata": {},
     "output_type": "execute_result"
    }
   ],
   "source": [
    "clf = LDA(solver='lsqr', shrinkage='auto')\n",
    "clf.fit(X,y)\n",
    "cross_val_score(clf, X, y, cv=5, scoring='roc_auc').mean()"
   ]
  },
  {
   "cell_type": "code",
   "execution_count": null,
   "id": "b74477c4",
   "metadata": {},
   "outputs": [],
   "source": []
  }
 ],
 "metadata": {
  "kernelspec": {
   "display_name": "errp",
   "language": "python",
   "name": "python3"
  },
  "language_info": {
   "codemirror_mode": {
    "name": "ipython",
    "version": 3
   },
   "file_extension": ".py",
   "mimetype": "text/x-python",
   "name": "python",
   "nbconvert_exporter": "python",
   "pygments_lexer": "ipython3",
   "version": "3.13.5"
  }
 },
 "nbformat": 4,
 "nbformat_minor": 5
}
